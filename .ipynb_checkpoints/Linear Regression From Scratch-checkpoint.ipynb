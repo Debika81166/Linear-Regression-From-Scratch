{
 "cells": [
  {
   "cell_type": "markdown",
   "id": "5f0a1fc6-ff76-4e0f-b563-4d5af6d8d007",
   "metadata": {},
   "source": [
    "Linear Regression predicts continuous target when there is a direct relationship between the target variable and one or multiple predictors. "
   ]
  },
  {
   "cell_type": "markdown",
   "id": "14506547",
   "metadata": {},
   "source": [
    "First things first, we import the required libraries. Here, Linear Regression has been implemented from scratch and no external libraries like `tensorflow`, `sklearn` or `pytorch` have been employed."
   ]
  },
  {
   "cell_type": "code",
   "execution_count": 32,
   "id": "c1ace64a",
   "metadata": {},
   "outputs": [],
   "source": [
    "import pandas as pd                                 # for csv file I/O, data preprocessing etc.\n",
    "import matplotlib.pyplot as plt                     # for data visualization   \n",
    "import matplotlib as mpl                       \n",
    "%matplotlib inline"
   ]
  },
  {
   "cell_type": "markdown",
   "id": "2148e2ac",
   "metadata": {},
   "source": [
    "Having imported the libraries, we load the *comma seperated values* file into a `pandas` DataFrame. We can also use NumPy's `loadtxt()` for reading a csv file. Refer [this](https://numpy.org/doc/stable/reference/generated/numpy.loadtxt.html) to check the usage guide.\n"
   ]
  },
  {
   "cell_type": "code",
   "execution_count": 10,
   "id": "516f6a93",
   "metadata": {},
   "outputs": [
    {
     "data": {
      "text/html": [
       "<div>\n",
       "<style scoped>\n",
       "    .dataframe tbody tr th:only-of-type {\n",
       "        vertical-align: middle;\n",
       "    }\n",
       "\n",
       "    .dataframe tbody tr th {\n",
       "        vertical-align: top;\n",
       "    }\n",
       "\n",
       "    .dataframe thead th {\n",
       "        text-align: right;\n",
       "    }\n",
       "</style>\n",
       "<table border=\"1\" class=\"dataframe\">\n",
       "  <thead>\n",
       "    <tr style=\"text-align: right;\">\n",
       "      <th></th>\n",
       "      <th>Features</th>\n",
       "      <th>Targets</th>\n",
       "    </tr>\n",
       "  </thead>\n",
       "  <tbody>\n",
       "    <tr>\n",
       "      <th>0</th>\n",
       "      <td>-10.000000</td>\n",
       "      <td>-12.494938</td>\n",
       "    </tr>\n",
       "    <tr>\n",
       "      <th>1</th>\n",
       "      <td>-9.959920</td>\n",
       "      <td>-16.144029</td>\n",
       "    </tr>\n",
       "    <tr>\n",
       "      <th>2</th>\n",
       "      <td>-9.919840</td>\n",
       "      <td>-16.175059</td>\n",
       "    </tr>\n",
       "    <tr>\n",
       "      <th>3</th>\n",
       "      <td>-9.879760</td>\n",
       "      <td>-23.393130</td>\n",
       "    </tr>\n",
       "    <tr>\n",
       "      <th>4</th>\n",
       "      <td>-9.839679</td>\n",
       "      <td>-12.531222</td>\n",
       "    </tr>\n",
       "  </tbody>\n",
       "</table>\n",
       "</div>"
      ],
      "text/plain": [
       "    Features    Targets\n",
       "0 -10.000000 -12.494938\n",
       "1  -9.959920 -16.144029\n",
       "2  -9.919840 -16.175059\n",
       "3  -9.879760 -23.393130\n",
       "4  -9.839679 -12.531222"
      ]
     },
     "execution_count": 10,
     "metadata": {},
     "output_type": "execute_result"
    }
   ],
   "source": [
    "data = pd.read_csv(\"data/numpydataset.csv\")      # load the csv file as a DataFrame\n",
    "data.head()                                     # displays the first 5 rows in the dataset"
   ]
  },
  {
   "cell_type": "markdown",
   "id": "104a0c5e-560e-4353-b128-0ec11a7aa027",
   "metadata": {},
   "source": [
    "Well, how many observations does the dataset has? By using the `shape` property, we see that the dataset has 500 rows (observations) and 2 columns (variables)."
   ]
  },
  {
   "cell_type": "code",
   "execution_count": 12,
   "id": "a85a36f2-6f92-441c-aa70-bcb31f7fc15a",
   "metadata": {},
   "outputs": [
    {
     "data": {
      "text/plain": [
       "(500, 2)"
      ]
     },
     "execution_count": 12,
     "metadata": {},
     "output_type": "execute_result"
    }
   ],
   "source": [
    "data.shape"
   ]
  },
  {
   "cell_type": "markdown",
   "id": "2d494e55-f78f-4ac5-b97f-e4c1da88ea97",
   "metadata": {},
   "source": [
    "We now [unpack](https://realpython.com/lessons/tuple-assignment-packing-unpacking/) the tuple obtained."
   ]
  },
  {
   "cell_type": "code",
   "execution_count": 11,
   "id": "777becb3-3364-48f2-ad93-358871d29b40",
   "metadata": {},
   "outputs": [],
   "source": [
    "rows, cols = data.shape\n",
    "samples = rows          # number of samples, here 500"
   ]
  },
  {
   "cell_type": "markdown",
   "id": "522a75f0-8f62-4c9b-ae92-801cdcd5c611",
   "metadata": {},
   "source": [
    "The number of rows corresponds to the total number of data samples. "
   ]
  },
  {
   "cell_type": "markdown",
   "id": "ae6fe76b",
   "metadata": {},
   "source": [
    "We define a method `MSE()` that will compute the loss incurred at each epoch. We aim to minimise the distance between the data and the line after each epoch. The higher the cost (or Error), the more the parameter values need to be changed in order to bring it down.</br>\n",
    "The Error function is represented as $ E = \\frac{1}{n} \\sum_{i=0}^{n} (y_i - \\hat{y})^2 $ where, </br> $ y_i $ is the actual value, </br> $ \\hat{y} $ is the predicted value, </br> $ n $ is the total number of data points or samples. </br>\n",
    "\n",
    "An *epoch* is a single iteration over a dataset of features.\n"
   ]
  },
  {
   "cell_type": "code",
   "execution_count": 14,
   "id": "239f4f20",
   "metadata": {},
   "outputs": [],
   "source": [
    "def MSE(points, m, c):\n",
    "    \"\"\"Computes the Mean Square Error.\"\"\"\n",
    "    total_err = 0\n",
    "    \n",
    "    for i in range(samples):\n",
    "        x = points.Features.iloc[i]\n",
    "        y = points.Targets.iloc[i]\n",
    "        total_err += (y - (m * x + c)) ** 2\n",
    "    return total_err / samples"
   ]
  },
  {
   "cell_type": "markdown",
   "id": "7aa757d5",
   "metadata": {},
   "source": [
    "We invoke the function to calculate the initial loss when `m=0` and `c=0`. We can resort to using `m` and `w` interchangeably because they both refer to the *weight* or the *slope* of a straight line."
   ]
  },
  {
   "cell_type": "code",
   "execution_count": 15,
   "id": "76c4402b",
   "metadata": {},
   "outputs": [
    {
     "data": {
      "text/plain": [
       "182.94204589695937"
      ]
     },
     "execution_count": 15,
     "metadata": {},
     "output_type": "execute_result"
    }
   ],
   "source": [
    "MSE(data, m=0, c=0)"
   ]
  },
  {
   "cell_type": "markdown",
   "id": "90e9ecad",
   "metadata": {},
   "source": [
    "We get a loss of around `183`. As I wrote earlier, our aim in Linear Regression is to minimise this value. Hence, we perform the elegant [Gradient Descent](https://developer.ibm.com/learningpaths/learning-path-machine-learning-for-developers/learn-regression-algorithms/?mhsrc=ibmsearch_a&mhq=regression) Algorithm. Extensively used in Machine Learning, this process involves finding the **local minimum** of a function. The sole idea behind this algorithm is to, provided a certain learning rate $ \\gamma $, take iterative steps (slowly) in the direction of $ -\\nabla{E} $ (negative gradient) in order to minimise the error rate. Each iteration of gradient descent updates the `m` and the `c` (collectively denoted by $\\theta$) according to,</br>\n",
    "$$ \\theta^{t+1} = \\theta^{t} - \\gamma \\frac{\\partial{E}(X, \\theta)}{\\partial{\\theta}} $$ where $ \\theta^t $ denotes the weights (slope) and the bias (intercept) at iteration $t$.\n",
    "<!-- MORE EXPLANATION SHOULD BE PROVIDED --></br>"
   ]
  },
  {
   "cell_type": "code",
   "execution_count": 22,
   "id": "99e9d5b7",
   "metadata": {},
   "outputs": [],
   "source": [
    "def gradient_descent(m_new, c_new, points, step_size):\n",
    "    \"\"\"The Gradient Descent Algorithm that updates both slope \n",
    "    and the intercept to minimise the Mean Square Error obtained\n",
    "    at each epoch.\"\"\"\n",
    "    \n",
    "    m_gradient = 0\n",
    "    c_gradient = 0\n",
    "    \n",
    "    for i in range(samples):      \n",
    "        x = points.iloc[i].Features  # Pandas index-based selection\n",
    "        y = points.iloc[i].Targets   \n",
    "        \n",
    "       # obtaining the gradient w.r.t both m and c\n",
    "        m_gradient += -(2/samples) * x * (y - (m_new * x + c_new))\n",
    "        c_gradient += -(2/samples) * (y - (m_new * x + c_new))\n",
    "        \n",
    "    # updating m and b\n",
    "    m = m_new - step_size * m_gradient\n",
    "    c = c_new - step_size * c_gradient\n",
    "    return m, c\n",
    "    "
   ]
  },
  {
   "cell_type": "markdown",
   "id": "3a682dcf",
   "metadata": {},
   "source": [
    "Let's recapitulate. The process is simple; start with $m=0$ and $c=0$ and obtain new pairs of `m` and `c` at each epoch. Tentatively, we choose the step_size to be `0.001` and it can be readjusted if required.</br>It's now the time for action!"
   ]
  },
  {
   "cell_type": "code",
   "execution_count": 23,
   "id": "4109a79c",
   "metadata": {},
   "outputs": [
    {
     "name": "stdout",
     "output_type": "stream",
     "text": [
      "Epoch 1, m: 0.136583491906185, c:0.010312358814106729, Loss: 164.80508456949966\n",
      "Epoch 2, m: 0.26402492243027265, c:0.02060409291058524, Loss: 149.00149960714555\n",
      "Epoch 3, m: 0.3829362050996419, c:0.030875243538870792, Loss: 135.22943429119366\n",
      "Epoch 4, m: 0.4938882957025642, c:0.041125851865899773, Loss: 123.2260882044345\n",
      "Epoch 5, m: 0.5974139337480966, c:0.05135595897627469, Loss: 112.76266383116663\n",
      "Epoch 6, m: 0.694010200429459, c:0.06156560587242887, Loss: 103.63996700446971\n",
      "Epoch 7, m: 0.7841409053730308, c:0.07175483347479074, Loss: 95.68457660100785\n",
      "Epoch 8, m: 0.8682388136330048, c:0.08192368262194788, Loss: 88.74550982980166\n",
      "Epoch 9, m: 0.946707723624676, c:0.0920721940708107, Loss: 82.69131899125425\n",
      "Epoch 10, m: 1.019924405973618, c:0.10220040849677581, Loss: 77.40756387953367\n",
      "Epoch 11, m: 1.0882404125901861, c:0.11230836649388898, Loss: 72.7946112247259\n",
      "Epoch 12, m: 1.1519837646556652, c:0.12239610857500792, Loss: 68.7657188598652\n",
      "Epoch 13, m: 1.211460527624978, c:0.1324636751719646, Loss: 65.24536777297835\n",
      "Epoch 14, m: 1.2669562808083688, c:0.1425111066357274, Loss: 62.167809970895924\n",
      "Epoch 15, m: 1.318737488588302, c:0.15253844323656268, Loss: 59.47580423146678\n",
      "Epoch 16, m: 1.3670527798555105, c:0.16254572516419627, Loss: 57.11951543374669\n",
      "Epoch 17, m: 1.412134141807439, c:0.1725329925279746, Loss: 55.05555630120099\n",
      "Epoch 18, m: 1.454198033841142, c:0.18250028535702537, Loss: 53.24615313144453\n",
      "Epoch 19, m: 1.4934464268890222, c:0.19244764360041805, Loss: 51.65841947019917\n",
      "Epoch 20, m: 1.5300677731878056, c:0.20237510712732393, Loss: 50.26372376282575\n",
      "Epoch 21, m: 1.5642379111371314, c:0.212282715727176, Loss: 49.03713882389988\n",
      "Epoch 22, m: 1.5961209095924542, c:0.22217050910982838, Loss: 47.95696253858989\n",
      "Epoch 23, m: 1.6258698556461584, c:0.23203852690571544, Loss: 47.00430057932759\n",
      "Epoch 24, m: 1.6536275896794341, c:0.24188680866601073, Loss: 46.16270311376038\n",
      "Epoch 25, m: 1.6795273912142903, c:0.2517153938627854, Loss: 45.417848518184684\n",
      "Epoch 26, m: 1.7036936188588374, c:0.2615243218891666, Loss: 44.75726801453284\n",
      "Epoch 27, m: 1.726242307418559, c:0.271313632059495, Loss: 44.17010593591504\n",
      "Epoch 28, m: 1.747281725040616, c:0.2810833636094827, Loss: 43.64691101082227\n",
      "Epoch 29, m: 1.766912893066327, c:0.2908335556963705, Loss: 43.17945465256069\n",
      "Epoch 30, m: 1.785230071087912, c:0.30056424739908444, Loss: 42.76057275977557\n",
      "Epoch 31, m: 1.8023212095385133, c:0.310275477718393, Loss: 42.38402798602195\n",
      "Epoch 32, m: 1.8182683719886135, c:0.3199672855770629, Loss: 42.044389829940435\n",
      "Epoch 33, m: 1.8331481291765226, c:0.3296397098200155, Loss: 41.73693024027346\n",
      "Epoch 34, m: 1.8470319266648803, c:0.3392927892144822, Loss: 41.457532728294936\n",
      "Epoch 35, m: 1.8599864278884861, c:0.34892656245015996, Loss: 41.202613239959625\n",
      "Epoch 36, m: 1.872073834240612, c:0.35854106813936637, Loss: 40.96905126621261\n",
      "Epoch 37, m: 1.8833521837346998, c:0.36813634481719437, Loss: 40.754129866766554\n",
      "Epoch 38, m: 1.893875629675476, c:0.3777124309416667, Loss: 40.55548345405504\n",
      "Epoch 39, m: 1.9036947006775309, c:0.3872693648938901, Loss: 40.3710523332919\n",
      "Epoch 40, m: 1.912856543279849, c:0.39680718497820905, Loss: 40.19904312447905\n",
      "Epoch 41, m: 1.9214051483212105, c:0.40632592942235934, Loss: 40.037894305313465\n",
      "Epoch 42, m: 1.9293815621634107, c:0.4158256363776214, Loss: 39.88624621241111\n",
      "Epoch 43, m: 1.9368240837764936, c:0.4253063439189729, Loss: 39.74291492399708\n",
      "Epoch 44, m: 1.9437684486323081, c:0.43476809004524164, Loss: 39.60686952184921\n",
      "Epoch 45, m: 1.9502480002893565, c:0.4442109126792579, Loss: 39.47721229526082\n",
      "Epoch 46, m: 1.956293850492807, c:0.4536348496680061, Loss: 39.353161506362284\n",
      "Epoch 47, m: 1.9619350285583912, c:0.4630399387827768, Loss: 39.23403638539311\n",
      "Epoch 48, m: 1.9671986207574614, c:0.472426217719318, Loss: 39.119244067397304\n",
      "Epoch 49, m: 1.9721099003724656, c:0.48179372409798604, Loss: 39.00826821914452\n",
      "Epoch 50, m: 1.9766924490473072, c:0.49114249546389677, Loss: 38.900659137584604\n",
      "Epoch 51, m: 1.9809682700152556, c:0.5004725692870757, Loss: 38.79602512943569\n",
      "Epoch 52, m: 1.9849578937480747, c:0.5097839829626083, Loss: 38.694025006144344\n",
      "Epoch 53, m: 1.9886804765336472, c:0.5190767738107898, Loss: 38.594361549901606\n",
      "Epoch 54, m: 1.9921538924554156, c:0.5283509790772749, Loss: 38.49677582507268\n",
      "Epoch 55, m: 1.9953948192152862, c:0.5376066359332271, Loss: 38.40104222565477\n",
      "Epoch 56, m: 1.9984188182120712, c:0.5468437814754674, Loss: 38.30696416352856\n",
      "Epoch 57, m: 2.001240409259973, c:0.5560624527266232, Loss: 38.214370314595214\n",
      "Epoch 58, m: 2.0038731403058714, c:0.5652626866352767, Loss: 38.12311135061229\n",
      "Epoch 59, m: 2.00632965248016, c:0.5744445200761128, Loss: 38.033057093888054\n",
      "Epoch 60, m: 2.0086217407934845, c:0.5836079898500672, Loss: 37.94409404011957\n",
      "Epoch 61, m: 2.010760410770807, c:0.5927531326844738, Loss: 37.856123201742555\n",
      "Epoch 62, m: 2.0127559312947376, c:0.6018799852332116, Loss: 37.7690582303219\n",
      "Epoch 63, m: 2.014617883911856, c:0.610988584076852, Loss: 37.68282378187899\n",
      "Epoch 64, m: 2.0163552088387706, c:0.620078965722805, Loss: 37.59735409372298\n",
      "Epoch 65, m: 2.0179762478888135, c:0.6291511666054661, Loss: 37.51259174541928\n",
      "Epoch 66, m: 2.0194887845254867, c:0.6382052230863619, Loss: 37.42848658007096\n",
      "Epoch 67, m: 2.0209000812349758, c:0.6472411714542958, Loss: 37.34499476517036\n",
      "Epoch 68, m: 2.0222169143971764, c:0.6562590479254939, Loss: 37.262077974962104\n",
      "Epoch 69, m: 2.0234456068226687, c:0.6652588886437497, Loss: 37.1797026785953\n",
      "Epoch 70, m: 2.0245920581118653, c:0.6742407296805689, Loss: 37.097839520377676\n",
      "Epoch 71, m: 2.025661772982106, c:0.6832046070353145, Loss: 37.01646278021491\n",
      "Epoch 72, m: 2.026659887698707, c:0.6921505566353506, Loss: 36.93554990385882\n",
      "Epoch 73, m: 2.0275911947368823, c:0.7010786143361867, Loss: 36.855081093933755\n",
      "Epoch 74, m: 2.0284601657929433, c:0.709988815921621, Loss: 36.77503895387637\n",
      "Epoch 75, m: 2.029270973255272, c:0.7188811971038844, Loss: 36.6954081779427\n",
      "Epoch 76, m: 2.030027510238158, c:0.7277557935237834, Loss: 36.616175281321354\n",
      "Epoch 77, m: 2.0307334092746947, c:0.7366126407508425, Loss: 36.53732836516482\n",
      "Epoch 78, m: 2.031392059758485, c:0.7454517742834476, Loss: 36.458856912020046\n",
      "Epoch 79, m: 2.03200662421791, c:0.7542732295489873, Loss: 36.38075160772501\n",
      "Epoch 80, m: 2.0325800535010923, c:0.7630770419039961, Loss: 36.3030041863474\n",
      "Epoch 81, m: 2.0331151009444786, c:0.7718632466342948, Loss: 36.22560729518375\n",
      "Epoch 82, m: 2.033614335593057, c:0.780631878955133, Loss: 36.148554377223256\n",
      "Epoch 83, m: 2.034080154535699, c:0.7893829740113294, Loss: 36.07183956881718\n",
      "Epoch 84, m: 2.034514794414845, c:0.7981165668774135, Loss: 35.99545761058602\n",
      "Epoch 85, m: 2.034920342165808, c:0.8068326925577654, Loss: 35.91940376985135\n",
      "Epoch 86, m: 2.0352987450372475, c:0.8155313859867566, Loss: 35.843673773101905\n",
      "Epoch 87, m: 2.0356518199409392, c:0.8242126820288898, Loss: 35.76826374719523\n",
      "Epoch 88, m: 2.0359812621757265, c:0.8328766154789387, Loss: 35.693170168164606\n",
      "Epoch 89, m: 2.0362886535675444, c:0.8415232210620874, Loss: 35.618389816647195\n",
      "Epoch 90, m: 2.0365754700645993, c:0.8501525334340699, Loss: 35.543919739076856\n",
      "Epoch 91, m: 2.0368430888241758, c:0.8587645871813085, Loss: 35.469757213895946\n",
      "Epoch 92, m: 2.0370927948250954, c:0.8673594168210527, Loss: 35.39589972213603\n",
      "Epoch 93, m: 2.0373257870375765, c:0.8759370568015172, Loss: 35.322344921803\n",
      "Epoch 94, m: 2.037543184180124, c:0.884497541502021, Loss: 35.24909062557425\n",
      "Epoch 95, m: 2.0377460300910863, c:0.8930409052331236, Loss: 35.17613478137853\n",
      "Epoch 96, m: 2.0379352987406736, c:0.9015671822367641, Loss: 35.103475455486894\n",
      "Epoch 97, m: 2.038111898907503, c:0.9100764066863973, Loss: 35.03111081778845\n",
      "Epoch 98, m: 2.0382766785421236, c:0.9185686126871313, Loss: 34.95903912896949\n",
      "Epoch 99, m: 2.038430428838475, c:0.9270438342758638, Loss: 34.887258729348694\n",
      "Epoch 100, m: 2.038573888032826, c:0.9355021054214188, Loss: 34.815768029154874\n",
      "2.038573888032826 0.9355021054214188\n"
     ]
    }
   ],
   "source": [
    "m, c = 0, 0\n",
    "L = 0.001       # initial learning rate, can be adjusted later\n",
    "epochs = 100    # we iterate over the same dataset 100 times\n",
    "\n",
    "for epoch in range(1, epochs+1):\n",
    "    m, c = gradient_descent(m, c, data, L)\n",
    "    loss = MSE(data, m, c)\n",
    "    print(f\"Epoch {epoch}, m: {m}, c:{c}, Loss: {loss}\")\n",
    "#     if not(epoch % 10):\n",
    "#         print(f\"Epoch {epoch}, m: {m}, c:{c}\")\n",
    "print(m, c)"
   ]
  },
  {
   "cell_type": "markdown",
   "id": "258461ad-50b3-4a6d-806d-aa564b9c730f",
   "metadata": {},
   "source": [
    "Having obtained the final values for both `m` and `c`, we now perform visualization using `matplotlib`.</br>"
   ]
  },
  {
   "cell_type": "code",
   "execution_count": 30,
   "id": "8214be9c-bc25-4559-b1b4-f475ad2f483e",
   "metadata": {},
   "outputs": [],
   "source": [
    "plt.style.use('ggplot')  # setting the theme"
   ]
  },
  {
   "cell_type": "code",
   "execution_count": 41,
   "id": "8298d39c-68e2-49e7-a80f-4d89e0cf39c6",
   "metadata": {},
   "outputs": [],
   "source": [
    "mpl.rcParams['figure.figsize'] = (6, 4)    # setting the figure size"
   ]
  },
  {
   "cell_type": "code",
   "execution_count": 46,
   "id": "0ccd2003",
   "metadata": {},
   "outputs": [
    {
     "data": {
      "image/png": "[encoded data removed]",
      "text/plain": [
       "<Figure size 600x400 with 1 Axes>"
      ]
     },
     "metadata": {},
     "output_type": "display_data"
    }
   ],
   "source": [
    "fig, ax = plt.subplots(1,1)\n",
    "\n",
    "# scatter plot, actual values\n",
    "ax.scatter(data.Features, \n",
    "           data.Targets, \n",
    "           color=\"red\", \n",
    "           linewidths=0.1, \n",
    "           label=\"Points\")\n",
    "\n",
    "# line plot, predicted values\n",
    "ax.plot(data.Features, \n",
    "        [m * x + c for x in data.Features], \n",
    "        linewidth=3, \n",
    "        color='green', \n",
    "        label=\"$ f(x) = mx+c $\")\n",
    "\n",
    "# legend\n",
    "ax.legend(loc=\"lower right\", bbox_to_anchor=(.96, 0.0))\n",
    "\n",
    "# labels\n",
    "ax.set_xlabel(\"Features\")\n",
    "ax.set_ylabel(\"Targets\")\n",
    "\n",
    "# display the final plot\n",
    "plt.show()"
   ]
  },
  {
   "cell_type": "markdown",
   "id": "6cbbcb77-85b7-46cf-9cf3-d0d5cb2e5dc8",
   "metadata": {},
   "source": [
    "We can clearly see the BAD line-fitting that followed."
   ]
  },
  {
   "cell_type": "markdown",
   "id": "9224a616",
   "metadata": {},
   "source": [
    "Let's check our final loss value. Is it way lesser than the initial value i.e. `183`?\n",
    "After 100 epochs, the final loss value is 35 (rounded up).\n"
   ]
  },
  {
   "cell_type": "code",
   "execution_count": 10,
   "id": "6d038ad7",
   "metadata": {},
   "outputs": [
    {
     "data": {
      "text/plain": [
       "34.815768029154874"
      ]
     },
     "execution_count": 10,
     "metadata": {},
     "output_type": "execute_result"
    }
   ],
   "source": [
    "MSE(data, m, b)"
   ]
  },
  {
   "cell_type": "markdown",
   "id": "8d702dfe",
   "metadata": {},
   "source": [
    "An average loss of `35` indicates that our model is gradually getting better. We can fine-tune our model in order to reduce loss further.</br>\n",
    "Our learning rate is `0.001` which is microscopic. The algorithm will take a LOT of time to converge i.e. reach the minima value for the error function $E$. Increasing the epoch is a bad option because it will result in an unnecessary increase in computation resources. Let's try adjusting the **learning rate**. How about `0.01`?"
   ]
  },
  {
   "cell_type": "code",
   "execution_count": 47,
   "id": "99d8917d",
   "metadata": {},
   "outputs": [
    {
     "name": "stdout",
     "output_type": "stream",
     "text": [
      "Epoch 1, m: 1.3658349190618497, c:0.10312358814106728, Loss: 57.771463654789635\n",
      "Epoch 2, m: 1.817463699913964, c:0.20418470451931323, Loss: 43.18968867478232\n",
      "Epoch 3, m: 1.9667998699352043, c:0.3032245985699943, Loss: 40.73483420008382\n",
      "Epoch 4, m: 2.0161795654332098, c:0.4002836947396617, Loss: 39.63997666358201\n",
      "Epoch 5, m: 2.032507520858402, c:0.4954016089859357, Loss: 38.726544463098776\n",
      "Epoch 6, m: 2.0379065441953887, c:0.5886171649472842, Loss: 37.864380213169895\n",
      "Epoch 7, m: 2.0396917923929903, c:0.6799684097894059, Loss: 37.038008221408205\n",
      "Epoch 8, m: 2.0402821049232593, c:0.7694926297346849, Loss: 36.24454102698065\n",
      "Epoch 9, m: 2.040477298445292, c:0.8572263652810584, Loss: 35.48251486509766\n",
      "Epoch 10, m: 2.040541841393459, c:0.9432054261165045, Loss: 34.75066709662237\n",
      "Epoch 11, m: 2.040563183250068, c:1.0274649057352416, Loss: 34.04780073566182\n",
      "Epoch 12, m: 2.0405702401766015, c:1.110039195761604, Loss: 33.372767908386045\n",
      "Epoch 13, m: 2.0405725736292624, c:1.1909619999874392, Loss: 32.72446638389023\n",
      "Epoch 14, m: 2.0405733452118064, c:1.2702663481287577, Loss: 32.10183760007278\n",
      "Epoch 15, m: 2.0405736003443105, c:1.3479846093072496, Loss: 31.503864916128222\n",
      "Epoch 16, m: 2.040573684706762, c:1.4241485052621718, Loss: 30.92957195047156\n",
      "Epoch 17, m: 2.040573712602162, c:1.4987891232979957, Loss: 30.37802098625533\n",
      "Epoch 18, m: 2.0405737218260915, c:1.571936928973103, Loss: 29.848311440222062\n",
      "Epoch 19, m: 2.0405737248760887, c:1.6436217785347083, Loss: 29.339578392211763\n",
      "Epoch 20, m: 2.0405737258846046, c:1.7138729311050813, Loss: 28.850991172902614\n",
      "Epoch 21, m: 2.040573726218082, c:1.7827190606240468, Loss: 28.38175200747814\n",
      "Epoch 22, m: 2.0405737263283497, c:1.850188267552633, Loss: 27.931094713004455\n",
      "Epoch 23, m: 2.040573726364811, c:1.9163080903426477, Loss: 27.498283447391984\n",
      "Epoch 24, m: 2.0405737263768673, c:1.981105516676862, Loss: 27.082611507897692\n",
      "Epoch 25, m: 2.040573726380854, c:2.044606994484392, Loss: 26.683400177207456\n",
      "Epoch 26, m: 2.040573726382172, c:2.1068384427357714, Loss: 26.299997615212487\n",
      "Epoch 27, m: 2.040573726382608, c:2.1678252620221232, Loss: 25.931777794672534\n",
      "Epoch 28, m: 2.040573726382752, c:2.227592344922748, Loss: 25.57813947902598\n",
      "Epoch 29, m: 2.0405737263828, c:2.2861640861653605, Loss: 25.23850524067899\n",
      "Epoch 30, m: 2.040573726382816, c:2.3435643925831204, Loss: 24.91232051817058\n",
      "Epoch 31, m: 2.0405737263828208, c:2.399816692872525, Loss: 24.599052710673497\n",
      "Epoch 32, m: 2.0405737263828225, c:2.4549439471561416, Loss: 24.298190308353323\n",
      "Epoch 33, m: 2.040573726382823, c:2.508968656354086, Loss: 24.009242057164982\n",
      "Epoch 34, m: 2.0405737263828234, c:2.5619128713680714, Loss: 23.731736156723734\n",
      "Epoch 35, m: 2.0405737263828234, c:2.613798202081777, Loss: 23.465219489939948\n",
      "Epoch 36, m: 2.0405737263828234, c:2.664645826181209, Loss: 23.209256883160776\n",
      "Epoch 37, m: 2.0405737263828234, c:2.714476497798652, Loss: 22.96343039561006\n",
      "Epoch 38, m: 2.0405737263828234, c:2.7633105559837463, Loss: 22.727338636966394\n",
      "Epoch 39, m: 2.0405737263828234, c:2.8111679330051387, Loss: 22.500596111964978\n",
      "Epoch 40, m: 2.0405737263828234, c:2.858068162486103, Loss: 22.282832590953618\n",
      "Epoch 41, m: 2.0405737263828234, c:2.9040303873774485, Loss: 22.073692505374336\n",
      "Epoch 42, m: 2.0405737263828234, c:2.949073367770967, Loss: 21.872834367183987\n",
      "Epoch 43, m: 2.0405737263828234, c:2.993215488556615, Loss: 21.679930211265955\n",
      "Epoch 44, m: 2.0405737263828234, c:3.03647476692655, Loss: 21.494665059922315\n",
      "Epoch 45, m: 2.0405737263828234, c:3.078868859729086, Loss: 21.316736408571852\n",
      "Epoch 46, m: 2.0405737263828234, c:3.1204150706755716, Loss: 21.14585373181485\n",
      "Epoch 47, m: 2.0405737263828234, c:3.1611303574031275, Loss: 20.981738009057477\n",
      "Epoch 48, m: 2.0405737263828234, c:3.2010313383961324, Loss: 20.824121268921264\n",
      "Epoch 49, m: 2.0405737263828234, c:3.2401342997692772, Loss: 20.672746151694465\n",
      "Epoch 50, m: 2.040573726382823, c:3.278455201914959, Loss: 20.527365489109823\n",
      "Epoch 51, m: 2.0405737263828234, c:3.3160096860177273, Loss: 20.387741900763547\n",
      "Epoch 52, m: 2.0405737263828234, c:3.3528130804384397, Loss: 20.25364740651577\n",
      "Epoch 53, m: 2.0405737263828234, c:3.3888804069707383, Loss: 20.124863054240194\n",
      "Epoch 54, m: 2.0405737263828234, c:3.424226386972391, Loss: 20.001178562314763\n",
      "Epoch 55, m: 2.0405737263828234, c:3.4588654473740106, Loss: 19.882391976269535\n",
      "Epoch 56, m: 2.0405737263828234, c:3.4928117265675978, Loss: 19.76830933903175\n",
      "Epoch 57, m: 2.0405737263828234, c:3.526079080177313, Loss: 19.658744374228576\n",
      "Epoch 58, m: 2.0405737263828234, c:3.558681086714834, Loss: 19.55351818203159\n",
      "Epoch 59, m: 2.0405737263828234, c:3.5906310531216046, Loss: 19.452458947045578\n",
      "Epoch 60, m: 2.0405737263828234, c:3.6219420202002395, Loss: 19.35540165776508\n",
      "Epoch 61, m: 2.0405737263828234, c:3.652626767937302, Loss: 19.26218783714002\n",
      "Epoch 62, m: 2.0405737263828234, c:3.682697820719623, Loss: 19.17266528381176\n",
      "Epoch 63, m: 2.0405737263828234, c:3.7121674524462978, Loss: 19.08668782359528\n",
      "Epoch 64, m: 2.0405737263828234, c:3.741047691538439, Loss: 19.004115070803376\n",
      "Epoch 65, m: 2.0405737263828234, c:3.7693503258487375, Loss: 18.924812199022007\n",
      "Epoch 66, m: 2.0405737263828234, c:3.79708690747283, Loss: 18.848649720963216\n",
      "Epoch 67, m: 2.0405737263828234, c:3.8242687574644405, Loss: 18.775503277035558\n",
      "Epoch 68, m: 2.0405737263828234, c:3.850906970456219, Loss: 18.70525343228743\n",
      "Epoch 69, m: 2.0405737263828234, c:3.877012419188162, Loss: 18.63778548139131\n",
      "Epoch 70, m: 2.0405737263828234, c:3.9025957589454663, Loss: 18.57298926135068\n",
      "Epoch 71, m: 2.0405737263828234, c:3.9276674319076244, Loss: 18.510758971623645\n",
      "Epoch 72, m: 2.0405737263828234, c:3.952237671410539, Loss: 18.45099300136981\n",
      "Epoch 73, m: 2.0405737263828234, c:3.9763165061233954, Loss: 18.393593763538043\n",
      "Epoch 74, m: 2.0405737263828234, c:3.999913764141995, Loss: 18.338467535524412\n",
      "Epoch 75, m: 2.0405737263828234, c:4.023039077000222, Loss: 18.28552430614011\n",
      "Epoch 76, m: 2.0405737263828234, c:4.045701883601285, Loss: 18.234677628639417\n",
      "Epoch 77, m: 2.0405737263828234, c:4.067911434070326, Loss: 18.18584447956777\n",
      "Epoch 78, m: 2.0405737263828234, c:4.0896767935299865, Loss: 18.138945123199353\n",
      "Epoch 79, m: 2.0405737263828234, c:4.111006845800454, Loss: 18.093902981343124\n",
      "Epoch 80, m: 2.0405737263828234, c:4.131910297025512, Loss: 18.05064450830442\n",
      "Epoch 81, m: 2.0405737263828234, c:4.1523956792260694, Loss: 18.009099070798012\n",
      "Epoch 82, m: 2.0405737263828234, c:4.1724713537826155, Loss: 17.969198832616907\n",
      "Epoch 83, m: 2.0405737263828234, c:4.19214551484803, Loss: 17.93087864386771\n",
      "Epoch 84, m: 2.0405737263828234, c:4.211426192692136, Loss: 17.894075934593022\n",
      "Epoch 85, m: 2.0405737263828234, c:4.2303212569793605, Loss: 17.858730612605612\n",
      "Epoch 86, m: 2.0405737263828234, c:4.24883841998084, Loss: 17.82478496536891\n",
      "Epoch 87, m: 2.0405737263828234, c:4.266985239722291, Loss: 17.79218356576276\n",
      "Epoch 88, m: 2.0405737263828234, c:4.284769123068912, Loss: 17.76087318158103\n",
      "Epoch 89, m: 2.0405737263828234, c:4.302197328748601, Loss: 17.730802688612872\n",
      "Epoch 90, m: 2.0405737263828234, c:4.3192769703146965, Loss: 17.701922987166288\n",
      "Epoch 91, m: 2.0405737263828234, c:4.33601501904947, Loss: 17.67418692189696\n",
      "Epoch 92, m: 2.0405737263828234, c:4.352418306809548, Loss: 17.647549204812314\n",
      "Epoch 93, m: 2.0405737263828234, c:4.368493528814424, Loss: 17.62196634132419\n",
      "Epoch 94, m: 2.0405737263828234, c:4.384247246379203, Loss: 17.59739655923023\n",
      "Epoch 95, m: 2.0405737263828234, c:4.399685889592686, Loss: 17.573799740507177\n",
      "Epoch 96, m: 2.0405737263828234, c:4.414815759941899, Loss: 17.551137355805576\n",
      "Epoch 97, m: 2.0405737263828234, c:4.429643032884128, Loss: 17.52937240153813\n",
      "Epoch 98, m: 2.0405737263828234, c:4.444173760367512, Loss: 17.508469339459705\n",
      "Epoch 99, m: 2.0405737263828234, c:4.458413873301229, Loss: 17.488394038639566\n",
      "Epoch 100, m: 2.0405737263828234, c:4.472369183976271, Loss: 17.469113719731904\n",
      "2.0405737263828234 4.472369183976271\n"
     ]
    }
   ],
   "source": [
    "m, c = 0, 0\n",
    "L = 0.01   # new learning rate\n",
    "epochs = 100\n",
    "\n",
    "for epoch in range(1, epochs+1):\n",
    "    m, c = gradient_descent(m, c, data, L)\n",
    "    loss = MSE(data, m, c)\n",
    "    print(f\"Epoch {epoch}, m: {m}, c:{c}, Loss: {loss}\")\n",
    "#     if not(epoch % 10):\n",
    "#         print(f\"Epoch {epoch}, m: {m}, c:{c}\")\n",
    "print(m, c)"
   ]
  },
  {
   "cell_type": "markdown",
   "id": "b586f2fd",
   "metadata": {},
   "source": [
    "Let's observe the new loss value."
   ]
  },
  {
   "cell_type": "code",
   "execution_count": 49,
   "id": "28384f41",
   "metadata": {},
   "outputs": [
    {
     "data": {
      "text/plain": [
       "17.469113719731904"
      ]
     },
     "execution_count": 49,
     "metadata": {},
     "output_type": "execute_result"
    }
   ],
   "source": [
    "MSE(data, m, c)"
   ]
  },
  {
   "cell_type": "markdown",
   "id": "c0c1737a",
   "metadata": {},
   "source": [
    "Bingo! We were able to minimize the loss. Our **Gradient Descent** algorithm proved to be very efficient.\n",
    "Let's quickly perform 2-D plotting using our favourite `matplotlib` library."
   ]
  },
  {
   "cell_type": "code",
   "execution_count": null,
   "id": "875078c1",
   "metadata": {},
   "outputs": [
    {
     "data": {
      "image/png": "[encoded data removed]",
      "text/plain": [
       "<Figure size 600x400 with 1 Axes>"
      ]
     },
     "metadata": {},
     "output_type": "display_data"
    }
   ],
   "source": [
    "fig, ax = plt.subplots(1,1)\n",
    "\n",
    "ax.scatter(data.Features, \n",
    "           data.Targets, \n",
    "           color=\"red\", \n",
    "           linewidths=0.1, \n",
    "           label=\"Points\")\n",
    "\n",
    "ax.plot(data.Features, \n",
    "        [m * x + c for x in data.Features], \n",
    "        linewidth=3,  \n",
    "        color='g',\n",
    "        label=\"$ f(x) = mx+c $\")\n",
    "\n",
    "ax.legend(loc=\"lower right\", bbox_to_anchor=(.96, 0.0))\n",
    "ax.set_xlabel(\"Features\")\n",
    "ax.set_ylabel(\"Targets\")\n",
    "\n",
    "plt.show()"
   ]
  },
  {
   "cell_type": "markdown",
   "id": "17355549-38e1-4f5e-a9a1-28ec8c01dffd",
   "metadata": {},
   "source": [
    "Much better!"
   ]
  }
 ],
 "metadata": {
  "kernelspec": {
   "display_name": "Python 3 (ipykernel)",
   "language": "python",
   "name": "python3"
  },
  "language_info": {
   "codemirror_mode": {
    "name": "ipython",
    "version": 3
   },
   "file_extension": ".py",
   "mimetype": "text/x-python",
   "name": "python",
   "nbconvert_exporter": "python",
   "pygments_lexer": "ipython3",
   "version": "3.9.13"
  }
 },
 "nbformat": 4,
 "nbformat_minor": 5
}
