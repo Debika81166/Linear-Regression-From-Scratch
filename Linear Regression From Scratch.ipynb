{
 "cells": [
  {
   "cell_type": "markdown",
   "id": "14506547",
   "metadata": {},
   "source": [
    "Let's import the required libraries. Here, Linear Regression has been implemented from scratch and no external libraries like `tensorflow` or `pytorch` have been employed."
   ]
  },
  {
   "cell_type": "code",
   "execution_count": 3,
   "id": "c1ace64a",
   "metadata": {},
   "outputs": [],
   "source": [
    "import pandas as pd\n",
    "import numpy as np\n",
    "import matplotlib.pyplot as plt"
   ]
  },
  {
   "cell_type": "markdown",
   "id": "2148e2ac",
   "metadata": {},
   "source": [
    "Having imported the libraries, we load the *comma seperated values* file into a `pandas` DataFrame. We can also use `np.loadtxt()` for the same.</br>\n",
    "The .csv file has been created using Python context-manager coupled with `csv` library. Numpy's `linspace()` method has been used to generate the Features."
   ]
  },
  {
   "cell_type": "code",
   "execution_count": 4,
   "id": "516f6a93",
   "metadata": {},
   "outputs": [
    {
     "data": {
      "text/html": [
       "<div>\n",
       "<style scoped>\n",
       "    .dataframe tbody tr th:only-of-type {\n",
       "        vertical-align: middle;\n",
       "    }\n",
       "\n",
       "    .dataframe tbody tr th {\n",
       "        vertical-align: top;\n",
       "    }\n",
       "\n",
       "    .dataframe thead th {\n",
       "        text-align: right;\n",
       "    }\n",
       "</style>\n",
       "<table border=\"1\" class=\"dataframe\">\n",
       "  <thead>\n",
       "    <tr style=\"text-align: right;\">\n",
       "      <th></th>\n",
       "      <th>Features</th>\n",
       "      <th>Targets</th>\n",
       "    </tr>\n",
       "  </thead>\n",
       "  <tbody>\n",
       "    <tr>\n",
       "      <th>0</th>\n",
       "      <td>-10.000000</td>\n",
       "      <td>-12.494938</td>\n",
       "    </tr>\n",
       "    <tr>\n",
       "      <th>1</th>\n",
       "      <td>-9.959920</td>\n",
       "      <td>-16.144029</td>\n",
       "    </tr>\n",
       "    <tr>\n",
       "      <th>2</th>\n",
       "      <td>-9.919840</td>\n",
       "      <td>-16.175059</td>\n",
       "    </tr>\n",
       "    <tr>\n",
       "      <th>3</th>\n",
       "      <td>-9.879760</td>\n",
       "      <td>-23.393130</td>\n",
       "    </tr>\n",
       "    <tr>\n",
       "      <th>4</th>\n",
       "      <td>-9.839679</td>\n",
       "      <td>-12.531222</td>\n",
       "    </tr>\n",
       "  </tbody>\n",
       "</table>\n",
       "</div>"
      ],
      "text/plain": [
       "    Features    Targets\n",
       "0 -10.000000 -12.494938\n",
       "1  -9.959920 -16.144029\n",
       "2  -9.919840 -16.175059\n",
       "3  -9.879760 -23.393130\n",
       "4  -9.839679 -12.531222"
      ]
     },
     "execution_count": 4,
     "metadata": {},
     "output_type": "execute_result"
    }
   ],
   "source": [
    "data = pd.read_csv(\"numpydataset.csv\")\n",
    "data.head()  "
   ]
  },
  {
   "cell_type": "markdown",
   "id": "ae6fe76b",
   "metadata": {},
   "source": [
    "We aim to minimise the distance between the data and the line after each epoch. An *epoch* is a single iteration over a dataset of features.</br>\n",
    "The Error function is represented as, $ E = \\frac{1}{n} \\sum_{i=0}^{n} (y_i - \\hat{y})^2 $ where $ y_i $ and $ \\hat{y} $ are the actual and the predicted values respectively."
   ]
  },
  {
   "cell_type": "code",
   "execution_count": 6,
   "id": "239f4f20",
   "metadata": {},
   "outputs": [],
   "source": [
    "def MSE(points, m, b):\n",
    "    total_err = 0\n",
    "    samples = len(points)\n",
    "    \n",
    "    for i in range(samples):\n",
    "        x = points.iloc[i].Features\n",
    "        y = points.iloc[i].Targets\n",
    "        total_err += (y - (m * x + b)) ** 2\n",
    "    return total_err / samples"
   ]
  },
  {
   "cell_type": "code",
   "execution_count": 7,
   "id": "76c4402b",
   "metadata": {},
   "outputs": [
    {
     "data": {
      "text/plain": [
       "182.94204589695937"
      ]
     },
     "execution_count": 7,
     "metadata": {},
     "output_type": "execute_result"
    }
   ],
   "source": [
    "MSE(data, m=0, b=0)"
   ]
  },
  {
   "cell_type": "markdown",
   "id": "90e9ecad",
   "metadata": {},
   "source": [
    "We get a loss of around 183. Our aim is to minimise this value. Hence, we perform the elegant GRADIENT DESCENT Algorithm. Extensively used in Machine Learning, this process involves finding the **local minimum** of a function. The sole idea behind this algorithm is, provided a certain learning rate $ \\gamma $, to take iterative steps in the direction of $ -\\nabla{E} $ (gradient) to minimise the cost function."
   ]
  },
  {
   "cell_type": "code",
   "execution_count": 8,
   "id": "99e9d5b7",
   "metadata": {},
   "outputs": [],
   "source": [
    "def gradient_descent(m_new, b_new, points, step_size):\n",
    "    samples = len(points)\n",
    "    m_gradient = 0\n",
    "    b_gradient = 0\n",
    "    \n",
    "    for i in range(samples):\n",
    "        x = points.iloc[i].Features\n",
    "        y = points.iloc[i].Targets\n",
    "        m_gradient += -(2/samples) * x * (y - (m_new * x + b_new))\n",
    "        b_gradient += -(2/samples) * (y - (m_new * x + b_new))\n",
    "        \n",
    "    m = m_new - step_size * m_gradient\n",
    "    b = b_new - step_size * b_gradient\n",
    "    return m, b\n",
    "    "
   ]
  },
  {
   "cell_type": "markdown",
   "id": "3a682dcf",
   "metadata": {},
   "source": [
    "It's the time for action!"
   ]
  },
  {
   "cell_type": "code",
   "execution_count": 12,
   "id": "4109a79c",
   "metadata": {},
   "outputs": [
    {
     "name": "stdout",
     "output_type": "stream",
     "text": [
      "Epoch 1, m: 0.136583491906185, b:0.010312358814106729\n",
      "Epoch 2, m: 0.26402492243027265, b:0.02060409291058524\n",
      "Epoch 3, m: 0.3829362050996419, b:0.030875243538870792\n",
      "Epoch 4, m: 0.4938882957025642, b:0.041125851865899773\n",
      "Epoch 5, m: 0.5974139337480966, b:0.05135595897627469\n",
      "Epoch 6, m: 0.694010200429459, b:0.06156560587242887\n",
      "Epoch 7, m: 0.7841409053730308, b:0.07175483347479074\n",
      "Epoch 8, m: 0.8682388136330048, b:0.08192368262194788\n",
      "Epoch 9, m: 0.946707723624676, b:0.0920721940708107\n",
      "Epoch 10, m: 1.019924405973618, b:0.10220040849677581\n",
      "Epoch 11, m: 1.0882404125901861, b:0.11230836649388898\n",
      "Epoch 12, m: 1.1519837646556652, b:0.12239610857500792\n",
      "Epoch 13, m: 1.211460527624978, b:0.1324636751719646\n",
      "Epoch 14, m: 1.2669562808083688, b:0.1425111066357274\n",
      "Epoch 15, m: 1.318737488588302, b:0.15253844323656268\n",
      "Epoch 16, m: 1.3670527798555105, b:0.16254572516419627\n",
      "Epoch 17, m: 1.412134141807439, b:0.1725329925279746\n",
      "Epoch 18, m: 1.454198033841142, b:0.18250028535702537\n",
      "Epoch 19, m: 1.4934464268890222, b:0.19244764360041805\n",
      "Epoch 20, m: 1.5300677731878056, b:0.20237510712732393\n",
      "Epoch 21, m: 1.5642379111371314, b:0.212282715727176\n",
      "Epoch 22, m: 1.5961209095924542, b:0.22217050910982838\n",
      "Epoch 23, m: 1.6258698556461584, b:0.23203852690571544\n",
      "Epoch 24, m: 1.6536275896794341, b:0.24188680866601073\n",
      "Epoch 25, m: 1.6795273912142903, b:0.2517153938627854\n",
      "Epoch 26, m: 1.7036936188588374, b:0.2615243218891666\n",
      "Epoch 27, m: 1.726242307418559, b:0.271313632059495\n",
      "Epoch 28, m: 1.747281725040616, b:0.2810833636094827\n",
      "Epoch 29, m: 1.766912893066327, b:0.2908335556963705\n",
      "Epoch 30, m: 1.785230071087912, b:0.30056424739908444\n",
      "Epoch 31, m: 1.8023212095385133, b:0.310275477718393\n",
      "Epoch 32, m: 1.8182683719886135, b:0.3199672855770629\n",
      "Epoch 33, m: 1.8331481291765226, b:0.3296397098200155\n",
      "Epoch 34, m: 1.8470319266648803, b:0.3392927892144822\n",
      "Epoch 35, m: 1.8599864278884861, b:0.34892656245015996\n",
      "Epoch 36, m: 1.872073834240612, b:0.35854106813936637\n",
      "Epoch 37, m: 1.8833521837346998, b:0.36813634481719437\n",
      "Epoch 38, m: 1.893875629675476, b:0.3777124309416667\n",
      "Epoch 39, m: 1.9036947006775309, b:0.3872693648938901\n",
      "Epoch 40, m: 1.912856543279849, b:0.39680718497820905\n",
      "Epoch 41, m: 1.9214051483212105, b:0.40632592942235934\n",
      "Epoch 42, m: 1.9293815621634107, b:0.4158256363776214\n",
      "Epoch 43, m: 1.9368240837764936, b:0.4253063439189729\n",
      "Epoch 44, m: 1.9437684486323081, b:0.43476809004524164\n",
      "Epoch 45, m: 1.9502480002893565, b:0.4442109126792579\n",
      "Epoch 46, m: 1.956293850492807, b:0.4536348496680061\n",
      "Epoch 47, m: 1.9619350285583912, b:0.4630399387827768\n",
      "Epoch 48, m: 1.9671986207574614, b:0.472426217719318\n",
      "Epoch 49, m: 1.9721099003724656, b:0.48179372409798604\n",
      "Epoch 50, m: 1.9766924490473072, b:0.49114249546389677\n",
      "Epoch 51, m: 1.9809682700152556, b:0.5004725692870757\n",
      "Epoch 52, m: 1.9849578937480747, b:0.5097839829626083\n",
      "Epoch 53, m: 1.9886804765336472, b:0.5190767738107898\n",
      "Epoch 54, m: 1.9921538924554156, b:0.5283509790772749\n",
      "Epoch 55, m: 1.9953948192152862, b:0.5376066359332271\n",
      "Epoch 56, m: 1.9984188182120712, b:0.5468437814754674\n",
      "Epoch 57, m: 2.001240409259973, b:0.5560624527266232\n",
      "Epoch 58, m: 2.0038731403058714, b:0.5652626866352767\n",
      "Epoch 59, m: 2.00632965248016, b:0.5744445200761128\n",
      "Epoch 60, m: 2.0086217407934845, b:0.5836079898500672\n",
      "Epoch 61, m: 2.010760410770807, b:0.5927531326844738\n",
      "Epoch 62, m: 2.0127559312947376, b:0.6018799852332116\n",
      "Epoch 63, m: 2.014617883911856, b:0.610988584076852\n",
      "Epoch 64, m: 2.0163552088387706, b:0.620078965722805\n",
      "Epoch 65, m: 2.0179762478888135, b:0.6291511666054661\n",
      "Epoch 66, m: 2.0194887845254867, b:0.6382052230863619\n",
      "Epoch 67, m: 2.0209000812349758, b:0.6472411714542958\n",
      "Epoch 68, m: 2.0222169143971764, b:0.6562590479254939\n",
      "Epoch 69, m: 2.0234456068226687, b:0.6652588886437497\n",
      "Epoch 70, m: 2.0245920581118653, b:0.6742407296805689\n",
      "Epoch 71, m: 2.025661772982106, b:0.6832046070353145\n",
      "Epoch 72, m: 2.026659887698707, b:0.6921505566353506\n",
      "Epoch 73, m: 2.0275911947368823, b:0.7010786143361867\n",
      "Epoch 74, m: 2.0284601657929433, b:0.709988815921621\n",
      "Epoch 75, m: 2.029270973255272, b:0.7188811971038844\n",
      "Epoch 76, m: 2.030027510238158, b:0.7277557935237834\n",
      "Epoch 77, m: 2.0307334092746947, b:0.7366126407508425\n",
      "Epoch 78, m: 2.031392059758485, b:0.7454517742834476\n",
      "Epoch 79, m: 2.03200662421791, b:0.7542732295489873\n",
      "Epoch 80, m: 2.0325800535010923, b:0.7630770419039961\n",
      "Epoch 81, m: 2.0331151009444786, b:0.7718632466342948\n",
      "Epoch 82, m: 2.033614335593057, b:0.780631878955133\n",
      "Epoch 83, m: 2.034080154535699, b:0.7893829740113294\n",
      "Epoch 84, m: 2.034514794414845, b:0.7981165668774135\n",
      "Epoch 85, m: 2.034920342165808, b:0.8068326925577654\n",
      "Epoch 86, m: 2.0352987450372475, b:0.8155313859867566\n",
      "Epoch 87, m: 2.0356518199409392, b:0.8242126820288898\n",
      "Epoch 88, m: 2.0359812621757265, b:0.8328766154789387\n",
      "Epoch 89, m: 2.0362886535675444, b:0.8415232210620874\n",
      "Epoch 90, m: 2.0365754700645993, b:0.8501525334340699\n",
      "Epoch 91, m: 2.0368430888241758, b:0.8587645871813085\n",
      "Epoch 92, m: 2.0370927948250954, b:0.8673594168210527\n",
      "Epoch 93, m: 2.0373257870375765, b:0.8759370568015172\n",
      "Epoch 94, m: 2.037543184180124, b:0.884497541502021\n",
      "Epoch 95, m: 2.0377460300910863, b:0.8930409052331236\n",
      "Epoch 96, m: 2.0379352987406736, b:0.9015671822367641\n",
      "Epoch 97, m: 2.038111898907503, b:0.9100764066863973\n",
      "Epoch 98, m: 2.0382766785421236, b:0.9185686126871313\n",
      "Epoch 99, m: 2.038430428838475, b:0.9270438342758638\n",
      "Epoch 100, m: 2.038573888032826, b:0.9355021054214188\n",
      "2.038573888032826 0.9355021054214188\n"
     ]
    }
   ],
   "source": [
    "m, b = 0, 0\n",
    "L = 0.001    # initial learning rate, can be adjusted later\n",
    "epochs = 100\n",
    "\n",
    "for epoch in range(1, epochs+1):\n",
    "    m, b = gradient_descent(m, b, data, L)\n",
    "    print(f\"Epoch {epoch}, m: {m}, b:{b}\")\n",
    "#     if not(epoch % 10):\n",
    "#         print(f\"Epoch {epoch}, m: {m}, b:{b}\")\n",
    "print(m, b)\n"
   ]
  },
  {
   "cell_type": "markdown",
   "id": "9224a616",
   "metadata": {},
   "source": [
    "Let's check our final loss value. Is it way lesser than the initial value i.e. 183?"
   ]
  },
  {
   "cell_type": "code",
   "execution_count": 13,
   "id": "6d038ad7",
   "metadata": {},
   "outputs": [
    {
     "data": {
      "text/plain": [
       "34.815768029154874"
      ]
     },
     "execution_count": 13,
     "metadata": {},
     "output_type": "execute_result"
    }
   ],
   "source": [
    "MSE(data, m, b)"
   ]
  },
  {
   "cell_type": "markdown",
   "id": "8d702dfe",
   "metadata": {},
   "source": [
    "35 is definitely better but we can improve our *regression* model more. Let's adjust the **learning** rate and change it to `0.01`."
   ]
  },
  {
   "cell_type": "code",
   "execution_count": 15,
   "id": "0ccd2003",
   "metadata": {},
   "outputs": [
    {
     "data": {
      "image/png": "[encoded data removed]",
      "text/plain": [
       "<Figure size 432x288 with 1 Axes>"
      ]
     },
     "metadata": {
      "needs_background": "light"
     },
     "output_type": "display_data"
    }
   ],
   "source": [
    "fig, ax = plt.subplots(1,1)\n",
    "\n",
    "ax.scatter(data.Features, \n",
    "           data.Targets, \n",
    "           color=\"red\", \n",
    "           linewidths=0.5, \n",
    "           label=\"Points\")\n",
    "ax.plot(data.Features, \n",
    "        [m * x + b for x in data.Features], \n",
    "        linewidth=3, \n",
    "        linestyle=\"dashed\", \n",
    "        label=\"$ f(x) = mx+c $\")\n",
    "\n",
    "ax.legend(loc=\"lower right\", bbox_to_anchor=(.96, 0.0))\n",
    "ax.set_xlabel(\"Features\")\n",
    "ax.set_ylabel(\"Targets\")\n",
    "\n",
    "plt.show()"
   ]
  },
  {
   "cell_type": "code",
   "execution_count": 16,
   "id": "99d8917d",
   "metadata": {},
   "outputs": [
    {
     "name": "stdout",
     "output_type": "stream",
     "text": [
      "Epoch 1, m: 1.3658349190618497, b:0.10312358814106728\n",
      "Epoch 2, m: 1.817463699913964, b:0.20418470451931323\n",
      "Epoch 3, m: 1.9667998699352043, b:0.3032245985699943\n",
      "Epoch 4, m: 2.0161795654332098, b:0.4002836947396617\n",
      "Epoch 5, m: 2.032507520858402, b:0.4954016089859357\n",
      "Epoch 6, m: 2.0379065441953887, b:0.5886171649472842\n",
      "Epoch 7, m: 2.0396917923929903, b:0.6799684097894059\n",
      "Epoch 8, m: 2.0402821049232593, b:0.7694926297346849\n",
      "Epoch 9, m: 2.040477298445292, b:0.8572263652810584\n",
      "Epoch 10, m: 2.040541841393459, b:0.9432054261165045\n",
      "Epoch 11, m: 2.040563183250068, b:1.0274649057352416\n",
      "Epoch 12, m: 2.0405702401766015, b:1.110039195761604\n",
      "Epoch 13, m: 2.0405725736292624, b:1.1909619999874392\n",
      "Epoch 14, m: 2.0405733452118064, b:1.2702663481287577\n",
      "Epoch 15, m: 2.0405736003443105, b:1.3479846093072496\n",
      "Epoch 16, m: 2.040573684706762, b:1.4241485052621718\n",
      "Epoch 17, m: 2.040573712602162, b:1.4987891232979957\n",
      "Epoch 18, m: 2.0405737218260915, b:1.571936928973103\n",
      "Epoch 19, m: 2.0405737248760887, b:1.6436217785347083\n",
      "Epoch 20, m: 2.0405737258846046, b:1.7138729311050813\n",
      "Epoch 21, m: 2.040573726218082, b:1.7827190606240468\n",
      "Epoch 22, m: 2.0405737263283497, b:1.850188267552633\n",
      "Epoch 23, m: 2.040573726364811, b:1.9163080903426477\n",
      "Epoch 24, m: 2.0405737263768673, b:1.981105516676862\n",
      "Epoch 25, m: 2.040573726380854, b:2.044606994484392\n",
      "Epoch 26, m: 2.040573726382172, b:2.1068384427357714\n",
      "Epoch 27, m: 2.040573726382608, b:2.1678252620221232\n",
      "Epoch 28, m: 2.040573726382752, b:2.227592344922748\n",
      "Epoch 29, m: 2.0405737263828, b:2.2861640861653605\n",
      "Epoch 30, m: 2.040573726382816, b:2.3435643925831204\n",
      "Epoch 31, m: 2.0405737263828208, b:2.399816692872525\n",
      "Epoch 32, m: 2.0405737263828225, b:2.4549439471561416\n",
      "Epoch 33, m: 2.040573726382823, b:2.508968656354086\n",
      "Epoch 34, m: 2.0405737263828234, b:2.5619128713680714\n",
      "Epoch 35, m: 2.0405737263828234, b:2.613798202081777\n",
      "Epoch 36, m: 2.0405737263828234, b:2.664645826181209\n",
      "Epoch 37, m: 2.0405737263828234, b:2.714476497798652\n",
      "Epoch 38, m: 2.0405737263828234, b:2.7633105559837463\n",
      "Epoch 39, m: 2.0405737263828234, b:2.8111679330051387\n",
      "Epoch 40, m: 2.0405737263828234, b:2.858068162486103\n",
      "Epoch 41, m: 2.0405737263828234, b:2.9040303873774485\n",
      "Epoch 42, m: 2.0405737263828234, b:2.949073367770967\n",
      "Epoch 43, m: 2.0405737263828234, b:2.993215488556615\n",
      "Epoch 44, m: 2.0405737263828234, b:3.03647476692655\n",
      "Epoch 45, m: 2.0405737263828234, b:3.078868859729086\n",
      "Epoch 46, m: 2.0405737263828234, b:3.1204150706755716\n",
      "Epoch 47, m: 2.0405737263828234, b:3.1611303574031275\n",
      "Epoch 48, m: 2.0405737263828234, b:3.2010313383961324\n",
      "Epoch 49, m: 2.0405737263828234, b:3.2401342997692772\n",
      "Epoch 50, m: 2.040573726382823, b:3.278455201914959\n",
      "Epoch 51, m: 2.0405737263828234, b:3.3160096860177273\n",
      "Epoch 52, m: 2.0405737263828234, b:3.3528130804384397\n",
      "Epoch 53, m: 2.0405737263828234, b:3.3888804069707383\n",
      "Epoch 54, m: 2.0405737263828234, b:3.424226386972391\n",
      "Epoch 55, m: 2.0405737263828234, b:3.4588654473740106\n",
      "Epoch 56, m: 2.0405737263828234, b:3.4928117265675978\n",
      "Epoch 57, m: 2.0405737263828234, b:3.526079080177313\n",
      "Epoch 58, m: 2.0405737263828234, b:3.558681086714834\n",
      "Epoch 59, m: 2.0405737263828234, b:3.5906310531216046\n",
      "Epoch 60, m: 2.0405737263828234, b:3.6219420202002395\n",
      "Epoch 61, m: 2.0405737263828234, b:3.652626767937302\n",
      "Epoch 62, m: 2.0405737263828234, b:3.682697820719623\n",
      "Epoch 63, m: 2.0405737263828234, b:3.7121674524462978\n",
      "Epoch 64, m: 2.0405737263828234, b:3.741047691538439\n",
      "Epoch 65, m: 2.0405737263828234, b:3.7693503258487375\n",
      "Epoch 66, m: 2.0405737263828234, b:3.79708690747283\n",
      "Epoch 67, m: 2.0405737263828234, b:3.8242687574644405\n",
      "Epoch 68, m: 2.0405737263828234, b:3.850906970456219\n",
      "Epoch 69, m: 2.0405737263828234, b:3.877012419188162\n",
      "Epoch 70, m: 2.0405737263828234, b:3.9025957589454663\n",
      "Epoch 71, m: 2.0405737263828234, b:3.9276674319076244\n",
      "Epoch 72, m: 2.0405737263828234, b:3.952237671410539\n",
      "Epoch 73, m: 2.0405737263828234, b:3.9763165061233954\n",
      "Epoch 74, m: 2.0405737263828234, b:3.999913764141995\n",
      "Epoch 75, m: 2.0405737263828234, b:4.023039077000222\n",
      "Epoch 76, m: 2.0405737263828234, b:4.045701883601285\n",
      "Epoch 77, m: 2.0405737263828234, b:4.067911434070326\n",
      "Epoch 78, m: 2.0405737263828234, b:4.0896767935299865\n",
      "Epoch 79, m: 2.0405737263828234, b:4.111006845800454\n",
      "Epoch 80, m: 2.0405737263828234, b:4.131910297025512\n",
      "Epoch 81, m: 2.0405737263828234, b:4.1523956792260694\n",
      "Epoch 82, m: 2.0405737263828234, b:4.1724713537826155\n",
      "Epoch 83, m: 2.0405737263828234, b:4.19214551484803\n",
      "Epoch 84, m: 2.0405737263828234, b:4.211426192692136\n",
      "Epoch 85, m: 2.0405737263828234, b:4.2303212569793605\n",
      "Epoch 86, m: 2.0405737263828234, b:4.24883841998084\n",
      "Epoch 87, m: 2.0405737263828234, b:4.266985239722291\n",
      "Epoch 88, m: 2.0405737263828234, b:4.284769123068912\n",
      "Epoch 89, m: 2.0405737263828234, b:4.302197328748601\n",
      "Epoch 90, m: 2.0405737263828234, b:4.3192769703146965\n",
      "Epoch 91, m: 2.0405737263828234, b:4.33601501904947\n",
      "Epoch 92, m: 2.0405737263828234, b:4.352418306809548\n",
      "Epoch 93, m: 2.0405737263828234, b:4.368493528814424\n",
      "Epoch 94, m: 2.0405737263828234, b:4.384247246379203\n",
      "Epoch 95, m: 2.0405737263828234, b:4.399685889592686\n",
      "Epoch 96, m: 2.0405737263828234, b:4.414815759941899\n",
      "Epoch 97, m: 2.0405737263828234, b:4.429643032884128\n",
      "Epoch 98, m: 2.0405737263828234, b:4.444173760367512\n",
      "Epoch 99, m: 2.0405737263828234, b:4.458413873301229\n",
      "Epoch 100, m: 2.0405737263828234, b:4.472369183976271\n",
      "2.0405737263828234 4.472369183976271\n"
     ]
    }
   ],
   "source": [
    "m, b = 0, 0\n",
    "L = 0.01   # new learning rate\n",
    "epochs = 100\n",
    "\n",
    "for epoch in range(1, epochs+1):\n",
    "    m, b = gradient_descent(m, b, data, L)\n",
    "    print(f\"Epoch {epoch}, m: {m}, b:{b}\")\n",
    "#     if not(epoch % 10):\n",
    "#         print(f\"Epoch {epoch}, m: {m}, b:{b}\")\n",
    "print(m, b)\n"
   ]
  },
  {
   "cell_type": "markdown",
   "id": "b586f2fd",
   "metadata": {},
   "source": [
    "Let's calculate the new loss value."
   ]
  },
  {
   "cell_type": "code",
   "execution_count": 17,
   "id": "28384f41",
   "metadata": {},
   "outputs": [
    {
     "data": {
      "text/plain": [
       "17.469113719731904"
      ]
     },
     "execution_count": 17,
     "metadata": {},
     "output_type": "execute_result"
    }
   ],
   "source": [
    "MSE(data, m, b)"
   ]
  },
  {
   "cell_type": "markdown",
   "id": "c0c1737a",
   "metadata": {},
   "source": [
    "Bingo! We were able to minimize the loss. Our **Gradient Descent** algorithm proved to be very efficient.</br>\n",
    "Let's quickly perform 2-D plotting using our favourite `matplotlib` library."
   ]
  },
  {
   "cell_type": "code",
   "execution_count": 18,
   "id": "875078c1",
   "metadata": {},
   "outputs": [
    {
     "data": {
      "image/png": "[encoded data removed]",
      "text/plain": [
       "<Figure size 432x288 with 1 Axes>"
      ]
     },
     "metadata": {
      "needs_background": "light"
     },
     "output_type": "display_data"
    }
   ],
   "source": [
    "fig, ax = plt.subplots(1,1)\n",
    "\n",
    "ax.scatter(data.Features, \n",
    "           data.Targets, \n",
    "           color=\"red\", \n",
    "           linewidths=0.5, \n",
    "           label=\"Points\")\n",
    "ax.plot(data.Features, \n",
    "        [m * x + b for x in data.Features], \n",
    "        linewidth=3, \n",
    "        linestyle=\"dashed\", \n",
    "        label=\"$ f(x) = mx+c $\")\n",
    "\n",
    "ax.legend(loc=\"lower right\", bbox_to_anchor=(.96, 0.0))\n",
    "ax.set_xlabel(\"Features\")\n",
    "ax.set_ylabel(\"Targets\")\n",
    "\n",
    "plt.show()"
   ]
  },
  {
   "cell_type": "code",
   "execution_count": null,
   "id": "75cef31d",
   "metadata": {},
   "outputs": [],
   "source": []
  }
 ],
 "metadata": {
  "kernelspec": {
   "display_name": "Python 3 (ipykernel)",
   "language": "python",
   "name": "python3"
  },
  "language_info": {
   "codemirror_mode": {
    "name": "ipython",
    "version": 3
   },
   "file_extension": ".py",
   "mimetype": "text/x-python",
   "name": "python",
   "nbconvert_exporter": "python",
   "pygments_lexer": "ipython3",
   "version": "3.7.13"
  }
 },
 "nbformat": 4,
 "nbformat_minor": 5
}
